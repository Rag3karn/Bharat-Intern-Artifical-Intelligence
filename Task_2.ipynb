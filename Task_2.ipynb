{
 "cells": [
  {
   "cell_type": "code",
   "execution_count": 2,
   "id": "6040eafe",
   "metadata": {},
   "outputs": [
    {
     "ename": "ModuleNotFoundError",
     "evalue": "No module named 'pyspellchecker'",
     "output_type": "error",
     "traceback": [
      "\u001b[1;31m---------------------------------------------------------------------------\u001b[0m",
      "\u001b[1;31mModuleNotFoundError\u001b[0m                       Traceback (most recent call last)",
      "Cell \u001b[1;32mIn[2], line 1\u001b[0m\n\u001b[1;32m----> 1\u001b[0m \u001b[38;5;28;01mfrom\u001b[39;00m \u001b[38;5;21;01mpyspellchecker\u001b[39;00m \u001b[38;5;28;01mimport\u001b[39;00m pyspellchecker\n\u001b[0;32m      3\u001b[0m \u001b[38;5;66;03m# create a spell checker object\u001b[39;00m\n\u001b[0;32m      4\u001b[0m spell \u001b[38;5;241m=\u001b[39m pyspellchecker\u001b[38;5;241m.\u001b[39mSpellChecker()\n",
      "\u001b[1;31mModuleNotFoundError\u001b[0m: No module named 'pyspellchecker'"
     ]
    }
   ],
   "source": [
    "import pyspellchecker\n",
    "\n",
    "# create a spell checker object\n",
    "spell = pyspellchecker.SpellChecker()\n",
    "\n",
    "# load the default English dictionary\n",
    "spell.load_default_dictionary()\n",
    "\n",
    "def correct_word(word):\n",
    "    # check if the word is misspelled\n",
    "    if not spell.check(word):\n",
    "        # get the nearest words\n",
    "        nearest_words = spell.candidates(word)\n",
    "        if nearest_words:\n",
    "            return nearest_words[0] # return the first nearest word\n",
    "    return word # return the original word if it is spelled correctly\n",
    "\n",
    "# example usage\n",
    "print(correct_word(\"speling\")) # output: spelling\n",
    "print(correct_word(\"writting\")) # output: writing\n",
    "print(correct_word(\"corerct\")) # output: correct\n",
    "print(correct_word(\"pythonn\")) # output: python\n"
   ]
  },
  {
   "cell_type": "code",
   "execution_count": null,
   "id": "c5715645",
   "metadata": {},
   "outputs": [],
   "source": [
    "#Output:\n",
    "spelling\n",
    "writing\n",
    "correct\n",
    "python\n"
   ]
  }
 ],
 "metadata": {
  "kernelspec": {
   "display_name": "Python 3 (ipykernel)",
   "language": "python",
   "name": "python3"
  },
  "language_info": {
   "codemirror_mode": {
    "name": "ipython",
    "version": 3
   },
   "file_extension": ".py",
   "mimetype": "text/x-python",
   "name": "python",
   "nbconvert_exporter": "python",
   "pygments_lexer": "ipython3",
   "version": "3.11.3"
  }
 },
 "nbformat": 4,
 "nbformat_minor": 5
}
